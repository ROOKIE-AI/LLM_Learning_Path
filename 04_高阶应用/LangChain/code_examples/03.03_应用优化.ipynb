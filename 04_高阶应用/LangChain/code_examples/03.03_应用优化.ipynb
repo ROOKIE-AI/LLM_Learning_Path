{
 "cells": [
  {
   "cell_type": "markdown",
   "metadata": {},
   "source": [
    "# 应用优化"
   ]
  },
  {
   "cell_type": "code",
   "execution_count": 24,
   "metadata": {},
   "outputs": [
    {
     "name": "stdout",
     "output_type": "stream",
     "text": [
      "Python 3.9.21\n",
      "chromadb                                 0.6.3\n",
      "cryptography                             44.0.2\n",
      "duckduckgo_search                        7.5.3\n",
      "langchain                                0.3.21\n",
      "langchain-community                      0.3.20\n",
      "langchain-core                           0.3.47\n",
      "langchain-deepseek                       0.1.3\n",
      "langchain-experimental                   0.3.4\n",
      "langchain-openai                         0.3.9\n",
      "langchain-text-splitters                 0.3.7\n",
      "numpy                                    2.0.2\n",
      "openai                                   1.68.2\n",
      "scipy                                    1.10.1\n",
      "tiktoken                                 0.9.0\n",
      "unstructured                             0.17.2\n",
      "unstructured-client                      0.31.3\n"
     ]
    }
   ],
   "source": [
    "import os\n",
    "import warnings\n",
    "from IPython.display import Markdown\n",
    "from setenv import APIKeyManager\n",
    "\n",
    "# 忽略警告\n",
    "warnings.filterwarnings('ignore')\n",
    "# 设置API密钥\n",
    "key_manager = APIKeyManager().setup_api_key([\"DEEPSEEK_API_KEY\"])\n",
    "\n",
    "# !pip install langchain-experimental\n",
    "\n",
    "# 查看Python版本\n",
    "!python -V\n",
    "# 查看安装的库\n",
    "!pip list | grep -E 'langchain|openai|llm|tiktoken|chromadb|cryptography|duck|unstructured|numpy|scipy'"
   ]
  },
  {
   "cell_type": "markdown",
   "metadata": {},
   "source": [
    "## 1. 性能优化"
   ]
  },
  {
   "cell_type": "markdown",
   "metadata": {},
   "source": [
    "### 1.1 响应优化"
   ]
  },
  {
   "cell_type": "markdown",
   "metadata": {},
   "source": [
    "异步和批量处理:\n",
    "\n",
    "在处理大量请求时，异步和批量处理可以显著提高性能：\n",
    "\n",
    "1. **异步处理**：使用`async/await`语法实现非阻塞操作，让程序在等待API响应时可以执行其他任务\n",
    "2. **批量处理**：同时发送多个请求，并行处理多个任务 \n",
    "下面的代码展示了如何使用LangChain的异步API和回调函数来优化响应性能\n",
    "\n"
   ]
  },
  {
   "cell_type": "code",
   "execution_count": 11,
   "metadata": {},
   "outputs": [],
   "source": [
    "from langchain_deepseek import ChatDeepSeek  # 导入DeepSeek聊天模型\n",
    "import asyncio  # 导入异步IO库，用于实现并发处理\n",
    "\n",
    "llm = ChatDeepSeek(model=\"deepseek-chat\", temperature=0.7)"
   ]
  },
  {
   "cell_type": "code",
   "execution_count": 12,
   "metadata": {},
   "outputs": [
    {
     "name": "stdout",
     "output_type": "stream",
     "text": [
      "===== 单个异步生成示例 =====\n",
      "生成结果: 你好！😊 很高兴见到你～有什么我可以帮忙的吗？\n",
      "\n",
      "===== 批量处理示例 =====\n",
      "提示 1 的结果: Python 是一种高级、解释型、通用的编程语言，由 **Guido van Rossum** 于 ...\n",
      "\n",
      "提示 2 的结果: 人工智能（Artificial Intelligence，简称 AI）是指由计算机系统模拟、延伸或扩...\n",
      "\n",
      "提示 3 的结果: 大语言模型（Large Language Model，LLM）是一种基于人工智能的自然语言处理（NL...\n",
      "\n"
     ]
    },
    {
     "data": {
      "text/plain": [
       "'演示完成'"
      ]
     },
     "execution_count": 12,
     "metadata": {},
     "output_type": "execute_result"
    }
   ],
   "source": [
    "# 演示异步生成和批量处理\n",
    "async def demo_async_and_batch():\n",
    "    print(\"===== 单个异步生成示例 =====\")\n",
    "    response = await llm.agenerate([\"你好\"])\n",
    "    print(f\"生成结果: {response.generations[0][0].text}\\n\")\n",
    "    \n",
    "    print(\"===== 批量处理示例 =====\")\n",
    "    prompts = [\"介绍一下Python\", \"什么是人工智能\", \"解释一下大语言模型\"]\n",
    "    # 修改批量处理函数调用\n",
    "    tasks = [llm.agenerate([prompt]) for prompt in prompts] # 创建异步任务列表\n",
    "    responses = await asyncio.gather(*tasks) # 并行执行所有任务，提高处理效率\n",
    "    \n",
    "    for i, response in enumerate(responses):\n",
    "        print(f\"提示 {i+1} 的结果: {response.generations[0][0].text[:50]}...\\n\")\n",
    "    \n",
    "    return \"演示完成\"\n",
    "\n",
    "# 执行演示\n",
    "await demo_async_and_batch()"
   ]
  },
  {
   "cell_type": "markdown",
   "metadata": {},
   "source": [
    "### 1.2 缓存优化"
   ]
  },
  {
   "cell_type": "code",
   "execution_count": 20,
   "metadata": {},
   "outputs": [],
   "source": [
    "from langchain.globals import set_llm_cache  \n",
    "from langchain.cache import InMemoryCache  \n",
    "\n",
    "# 全局设置缓存  \n",
    "set_llm_cache(InMemoryCache())"
   ]
  },
  {
   "cell_type": "code",
   "execution_count": 21,
   "metadata": {},
   "outputs": [
    {
     "name": "stdout",
     "output_type": "stream",
     "text": [
      "===== 缓存优化演示 =====\n",
      "第一次调用（无缓存）:\n",
      "- 耗时: 45.26秒\n",
      "- 结果前50个字符: 量子计算是一种利用量子力学原理（如叠加态和纠缠态）进行信息处理的新型计算范式。其核心原理与传统经典计...\n",
      "\n",
      "第二次调用（使用缓存）:\n",
      "- 耗时: 0.00秒\n",
      "- 结果前50个字符: 量子计算是一种利用量子力学原理（如叠加态和纠缠态）进行信息处理的新型计算范式。其核心原理与传统经典计...\n",
      "\n",
      "性能提升: 84330.99倍\n",
      "缓存节省了 45.26 秒\n"
     ]
    }
   ],
   "source": [
    "# 演示缓存优化效果\n",
    "import time\n",
    "\n",
    "# 定义一个函数来测量执行时间\n",
    "def measure_time(func, *args, **kwargs):\n",
    "    start_time = time.time()\n",
    "    result = func(*args, **kwargs)\n",
    "    end_time = time.time()\n",
    "    return result, end_time - start_time\n",
    "\n",
    "# 第一次调用（无缓存）\n",
    "print(\"===== 缓存优化演示 =====\")\n",
    "prompt = \"解释量子计算的基本原理\"\n",
    "result1, time1 = measure_time(llm.invoke, prompt)\n",
    "print(f\"第一次调用（无缓存）:\")\n",
    "print(f\"- 耗时: {time1:.2f}秒\")\n",
    "print(f\"- 结果前50个字符: {result1.content[:50]}...\\n\")\n",
    "\n",
    "# 第二次调用（使用缓存）\n",
    "result2, time2 = measure_time(llm.invoke, prompt)\n",
    "print(f\"第二次调用（使用缓存）:\")\n",
    "print(f\"- 耗时: {time2:.2f}秒\")\n",
    "print(f\"- 结果前50个字符: {result2.content[:50]}...\\n\")\n",
    "\n",
    "# 显示性能提升\n",
    "if time1 > 0:\n",
    "    speedup = time1 / time2 if time2 > 0 else float('inf')\n",
    "    print(f\"性能提升: {speedup:.2f}倍\")\n",
    "    print(f\"缓存节省了 {(time1 - time2):.2f} 秒\")"
   ]
  },
  {
   "cell_type": "markdown",
   "metadata": {},
   "source": [
    "## 2. 用户体验优化 "
   ]
  },
  {
   "cell_type": "markdown",
   "metadata": {},
   "source": [
    "### 2.1 错误处理"
   ]
  },
  {
   "cell_type": "code",
   "execution_count": 39,
   "metadata": {},
   "outputs": [
    {
     "name": "stdout",
     "output_type": "stream",
     "text": [
      "Hello! 😊 How can I assist you today?\n"
     ]
    }
   ],
   "source": [
    "from langchain_core.exceptions import LangChainException \n",
    "from langchain_deepseek import ChatDeepSeek\n",
    "\n",
    "try:\n",
    "    llm = ChatDeepSeek(model='deepseek-chat')\n",
    "    response = await llm.ainvoke(\"Hello\")\n",
    "    print(response.content)\n",
    "except LangChainException as e:\n",
    "    # 处理错误\n",
    "    error_message = f\"发生错误：{str(e)}\"\n",
    "    # 返回友好的错误信息\n",
    "    print(error_message)\n",
    "except Exception as e:\n",
    "    print(e)"
   ]
  },
  {
   "cell_type": "markdown",
   "metadata": {},
   "source": [
    "### 2.2 进度反馈"
   ]
  },
  {
   "cell_type": "code",
   "execution_count": 44,
   "metadata": {},
   "outputs": [],
   "source": [
    "from langchain_deepseek import ChatDeepSeek\n",
    "from langchain.callbacks.streaming_stdout import StreamingStdOutCallbackHandler\n",
    "from langchain_core.prompts import ChatPromptTemplate\n",
    "\n",
    "# 直接创建回调处理器\n",
    "callback_handler = StreamingStdOutCallbackHandler()\n",
    "\n",
    "# 使用回调\n",
    "llm = ChatDeepSeek(model='deepseek-chat', callbacks=[callback_handler])\n",
    "\n",
    "# 创建提示模板\n",
    "prompt = ChatPromptTemplate.from_template(\"请告诉我关于{topic}的信息\")\n",
    "\n",
    "# 创建链并使用回调\n",
    "# 在LangChain中，使用|运算符连接时，需要确保两边都是Runnable对象\n",
    "chain = {\"topic\": lambda x: x} | prompt | llm"
   ]
  },
  {
   "cell_type": "code",
   "execution_count": 47,
   "metadata": {},
   "outputs": [
    {
     "data": {
      "text/markdown": [
       "小米（Xiaomi）是一家中国知名的科技公司，成立于2010年，总部位于北京。以下是一些关于小米的关键信息：\n",
       "\n",
       "### 1. **公司简介**\n",
       "   - **成立时间**：2010年4月6日。\n",
       "   - **创始人**：雷军（Lei Jun）。\n",
       "   - **总部**：中国北京。\n",
       "   - **业务范围**：智能手机、智能家居、消费电子产品、互联网服务等。\n",
       "\n",
       "### 2. **主要产品**\n",
       "   - **智能手机**：小米的智能手机是其核心产品，如小米系列、Redmi系列、POCO系列等。\n",
       "   - **智能家居**：小米生态链包括智能电视、空气净化器、扫地机器人、智能音箱等。\n",
       "   - **其他产品**：笔记本电脑、穿戴设备（如手环、手表）、路由器等。\n",
       "\n",
       "### 3. **商业模式**\n",
       "   - **高性价比**：小米以“性价比”著称，通过线上销售和高效的供应链管理降低成本。\n",
       "   - **生态链战略**：投资和支持多家生态链企业，扩展产品线。\n",
       "\n",
       "### 4. **市场表现**\n",
       "   - **全球市场**：小米是全球前三的智能手机制造商之一，在印度、欧洲等市场表现强劲。\n",
       "   - **上市**：2018年7月在香港交易所上市（股票代码：1810.HK）。\n",
       "\n",
       "### 5. **技术创新**\n",
       "   - **MIUI**：基于Android的定制操作系统。\n",
       "   - **研发投入**：在相机技术、快充、AI等领域有显著进展。\n",
       "\n",
       "### 6. **最新动态**\n",
       "   - **电动汽车**：2024年推出首款电动汽车SU7，进军汽车行业。\n",
       "   - **全球化**：持续扩展国际市场，尤其在东南亚、拉美等地。\n",
       "\n",
       "### 7. **企业文化**\n",
       "   - **使命**：“让全球每个人都能享受科技带来的美好生活”。\n",
       "   - **价值观**：用户导向、创新、质量。\n",
       "\n",
       "如果需要更详细的信息（如财务数据、具体产品参数等），可以进一步提问！"
      ],
      "text/plain": [
       "<IPython.core.display.Markdown object>"
      ]
     },
     "execution_count": 47,
     "metadata": {},
     "output_type": "execute_result"
    }
   ],
   "source": [
    "Markdown(chain.invoke(\"小米\").content)"
   ]
  }
 ],
 "metadata": {
  "kernelspec": {
   "display_name": "ai",
   "language": "python",
   "name": "python3"
  },
  "language_info": {
   "codemirror_mode": {
    "name": "ipython",
    "version": 3
   },
   "file_extension": ".py",
   "mimetype": "text/x-python",
   "name": "python",
   "nbconvert_exporter": "python",
   "pygments_lexer": "ipython3",
   "version": "3.9.21"
  }
 },
 "nbformat": 4,
 "nbformat_minor": 2
}

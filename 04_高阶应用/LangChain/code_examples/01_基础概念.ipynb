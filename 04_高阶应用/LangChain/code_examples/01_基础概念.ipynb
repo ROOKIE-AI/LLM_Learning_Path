{
 "cells": [
  {
   "cell_type": "code",
   "execution_count": 5,
   "metadata": {},
   "outputs": [],
   "source": [
    "import os\n",
    "import warnings\n",
    "warnings.filterwarnings('ignore')"
   ]
  },
  {
   "cell_type": "markdown",
   "metadata": {},
   "source": [
    "# 基础概念"
   ]
  },
  {
   "cell_type": "code",
   "execution_count": 1,
   "metadata": {},
   "outputs": [],
   "source": [
    "# !pip install langchain\n",
    "# !pip install langchain_community\n",
    "# !pip install cryptography\n",
    "# !pip install openai\n",
    "# !pip install langchain_openai"
   ]
  },
  {
   "cell_type": "code",
   "execution_count": 6,
   "metadata": {},
   "outputs": [
    {
     "name": "stdout",
     "output_type": "stream",
     "text": [
      "cryptography              44.0.2\n",
      "langchain                 0.3.21\n",
      "langchain-community       0.3.20\n",
      "langchain-core            0.3.47\n",
      "langchain-openai          0.3.9\n",
      "langchain-text-splitters  0.3.7\n",
      "openai                    1.68.2\n",
      "tiktoken                  0.9.0\n"
     ]
    }
   ],
   "source": [
    "!pip list | grep -E 'langchain|openai|llm|tiktoken|chromadb|cryptography'"
   ]
  },
  {
   "cell_type": "markdown",
   "metadata": {},
   "source": [
    "## 1. 快速开始"
   ]
  },
  {
   "cell_type": "code",
   "execution_count": 2,
   "metadata": {},
   "outputs": [],
   "source": [
    "from setenv import APIKeyManager\n",
    "\n",
    "key_manager = APIKeyManager().setup_api_key()"
   ]
  },
  {
   "cell_type": "code",
   "execution_count": 3,
   "metadata": {},
   "outputs": [
    {
     "name": "stderr",
     "output_type": "stream",
     "text": [
      "/tmp/ipykernel_3501/20521266.py:20: LangChainDeprecationWarning: The class `LLMChain` was deprecated in LangChain 0.1.17 and will be removed in 1.0. Use :meth:`~RunnableSequence, e.g., `prompt | llm`` instead.\n",
      "  chain = LLMChain(llm=llm, prompt=prompt)\n"
     ]
    }
   ],
   "source": [
    "from IPython.display import Markdown\n",
    "from langchain_openai import ChatOpenAI  \n",
    "from langchain.chains import LLMChain\n",
    "from langchain.prompts import PromptTemplate\n",
    "\n",
    "\n",
    "# 初始化LLM\n",
    "llm = ChatOpenAI(  \n",
    "    temperature=0.7,   \n",
    "    model=\"deepseek-chat\"\n",
    ")  \n",
    "\n",
    "# 创建提示词模板\n",
    "prompt = PromptTemplate(\n",
    "    input_variables=[\"product\"],\n",
    "    template=\"为生产{product}的公司起一个好名字是什么？\"\n",
    ")\n",
    "\n",
    "# 创建链\n",
    "chain = LLMChain(llm=llm, prompt=prompt)\n",
    "\n",
    "# 运行链\n",
    "response = chain.invoke(\"彩色袜子\")  "
   ]
  },
  {
   "cell_type": "code",
   "execution_count": 4,
   "metadata": {},
   "outputs": [
    {
     "data": {
      "text/markdown": [
       "为生产彩色袜子的公司起名时，可以考虑以下几个方向：\n",
       "\n",
       "1. **突出色彩和创意**：名字可以传达出袜子的多彩和时尚感。\n",
       "   - **彩袜物语**：传达出袜子背后的故事和时尚感。\n",
       "   - **缤纷袜艺**：突出袜子的多彩和艺术感。\n",
       "   - **彩虹袜坊**：让人联想到彩虹的丰富色彩，适合彩色袜子品牌。\n",
       "   - **色界袜业**：强调色彩的多样性和袜子的时尚感。\n",
       "\n",
       "2. **简洁易记**：名字要简洁，容易记住，适合传播。\n",
       "   - **彩袜乐**：简单直接，传达出袜子的多彩和快乐。\n",
       "   - **袜色**：简洁有力，突出袜子的色彩。\n",
       "   - **袜彩**：简单易记，突出袜子的多彩特性。\n",
       "\n",
       "3. **时尚感**：名字可以带有一定的时尚感，吸引年轻消费者。\n",
       "   - **袜尚**：结合“袜子”和“时尚”，传达出品牌的潮流感。\n",
       "   - **袜潮**：突出袜子的潮流属性，适合年轻消费者。\n",
       "   - **袜趣**：传达出袜子的趣味性和时尚感。\n",
       "\n",
       "4. **国际化**：如果公司有国际化的愿景，可以考虑使用英文或中英文结合的名字。\n",
       "   - **ColorSocks**：直接传达出彩色袜子的特点，适合国际市场。\n",
       "   - **SockJoy**：结合“袜子”和“快乐”，传达出品牌的愉悦感。\n",
       "   - **RainbowSocks**：突出袜子的多彩特性，适合国际市场。\n",
       "\n",
       "5. **个性化**：名字可以带有一定的个性，吸引特定群体。\n",
       "   - **袜里袜气**：带有趣味性，适合年轻、个性化的品牌。\n",
       "   - **袜趣星球**：传达出袜子的趣味性和创意感，适合年轻消费者。\n",
       "\n",
       "最终的名字选择可以根据公司的品牌定位、目标客户群体以及市场策略来决定。希望这些建议能为你提供灵感！"
      ],
      "text/plain": [
       "<IPython.core.display.Markdown object>"
      ]
     },
     "execution_count": 4,
     "metadata": {},
     "output_type": "execute_result"
    }
   ],
   "source": [
    "Markdown(response['text'])"
   ]
  }
 ],
 "metadata": {
  "kernelspec": {
   "display_name": "ai",
   "language": "python",
   "name": "python3"
  },
  "language_info": {
   "codemirror_mode": {
    "name": "ipython",
    "version": 3
   },
   "file_extension": ".py",
   "mimetype": "text/x-python",
   "name": "python",
   "nbconvert_exporter": "python",
   "pygments_lexer": "ipython3",
   "version": "3.9.21"
  }
 },
 "nbformat": 4,
 "nbformat_minor": 2
}

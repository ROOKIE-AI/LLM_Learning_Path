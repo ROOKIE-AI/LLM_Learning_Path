{
 "cells": [
  {
   "cell_type": "markdown",
   "metadata": {},
   "source": [
    "# Chains: 链"
   ]
  },
  {
   "cell_type": "code",
   "execution_count": 7,
   "metadata": {},
   "outputs": [
    {
     "name": "stdout",
     "output_type": "stream",
     "text": [
      "Python 3.9.21\n",
      "cryptography              44.0.2\n",
      "duckduckgo_search         7.5.3\n",
      "langchain                 0.3.21\n",
      "langchain-community       0.3.20\n",
      "langchain-core            0.3.47\n",
      "langchain-openai          0.3.9\n",
      "langchain-text-splitters  0.3.7\n",
      "openai                    1.68.2\n",
      "tiktoken                  0.9.0\n"
     ]
    }
   ],
   "source": [
    "import os\n",
    "import warnings\n",
    "from IPython.display import Markdown\n",
    "from setenv import APIKeyManager\n",
    "\n",
    "# 忽略警告\n",
    "warnings.filterwarnings('ignore')\n",
    "# 设置API密钥\n",
    "key_manager = APIKeyManager().setup_api_key()\n",
    "\n",
    "# 安装 \n",
    "# !pip install duckduckgo_search\n",
    "\n",
    "# 查看Python版本\n",
    "!python -V\n",
    "# 查看安装的库\n",
    "!pip list | grep -E 'langchain|openai|llm|tiktoken|chromadb|cryptography|duck'"
   ]
  },
  {
   "cell_type": "markdown",
   "metadata": {},
   "source": [
    "## 1. 基础链"
   ]
  },
  {
   "cell_type": "markdown",
   "metadata": {},
   "source": [
    "### 1.1 LLMChain"
   ]
  },
  {
   "cell_type": "code",
   "execution_count": 4,
   "metadata": {},
   "outputs": [],
   "source": [
    "from langchain_openai import ChatOpenAI\n",
    "from langchain.prompts import PromptTemplate\n",
    "from langchain.chains import LLMChain\n",
    "\n",
    "# 创建 LLM\n",
    "llm = ChatOpenAI(model=\"deepseek-chat\", temperature=0.7)\n",
    "\n",
    "# 创建提示词模板\n",
    "prompt = PromptTemplate(\n",
    "    input_variables=[\"question\"],\n",
    "    template=\"请回答以下问题：{question}\"\n",
    ")\n",
    "\n",
    "# 创建 LLMChain\n",
    "chain = LLMChain(llm=llm, prompt=prompt)\n",
    "\n",
    "# 运行链\n",
    "response = chain.run(\"什么是人工智能？\")"
   ]
  },
  {
   "cell_type": "code",
   "execution_count": 8,
   "metadata": {},
   "outputs": [
    {
     "data": {
      "text/markdown": [
       "人工智能（Artificial Intelligence，简称 AI）是指通过计算机系统模拟、扩展和增强人类智能的技术和科学。它旨在使机器能够执行通常需要人类智能的任务，例如学习、推理、问题解决、感知、语言理解和决策等。\n",
       "\n",
       "人工智能可以分为以下几类：\n",
       "\n",
       "1. **弱人工智能（Narrow AI）**：专注于执行特定任务的人工智能，例如语音识别、图像识别或推荐系统。这类 AI 在特定领域表现出色，但不具备通用智能。\n",
       "\n",
       "2. **强人工智能（General AI）**：具备与人类相当的通用智能，能够理解、学习和执行任何智力任务。目前，强人工智能尚未实现，仍处于理论阶段。\n",
       "\n",
       "3. **超级人工智能（Superintelligent AI）**：指在几乎所有领域都超越人类智能的 AI。这是未来可能的发展方向，但也引发了伦理和安全方面的讨论。\n",
       "\n",
       "人工智能的核心技术包括：\n",
       "- **机器学习（Machine Learning）**：通过数据训练模型，使机器能够从经验中学习并改进性能。\n",
       "- **深度学习（Deep Learning）**：一种基于神经网络的机器学习方法，适用于处理复杂的数据（如图像、语音和文本）。\n",
       "- **自然语言处理（NLP）**：使机器能够理解、生成和处理人类语言。\n",
       "- **计算机视觉（Computer Vision）**：使机器能够“看”并理解图像和视频内容。\n",
       "- **强化学习（Reinforcement Learning）**：通过试错和奖励机制训练机器完成特定任务。\n",
       "\n",
       "人工智能已广泛应用于各个领域，如医疗、金融、教育、交通和娱乐等，正在深刻改变我们的生活和工作方式。"
      ],
      "text/plain": [
       "<IPython.core.display.Markdown object>"
      ]
     },
     "execution_count": 8,
     "metadata": {},
     "output_type": "execute_result"
    }
   ],
   "source": [
    "Markdown(response)"
   ]
  },
  {
   "cell_type": "markdown",
   "metadata": {},
   "source": [
    "### 1.2 SequentialChain"
   ]
  },
  {
   "cell_type": "code",
   "execution_count": 14,
   "metadata": {},
   "outputs": [
    {
     "name": "stdout",
     "output_type": "stream",
     "text": [
      "第一个链的输出：\n",
      "最终总结：\n"
     ]
    },
    {
     "data": {
      "text/markdown": [
       "人工智能（AI）是通过计算机系统模拟人类智能，使其能够执行学习、推理、问题解决等任务。AI分为三类：**弱人工智能**（专注于特定任务，如语音助手）、**强人工智能**（具备通用智能，尚未实现）和**超级人工智能**（超越人类智能，仅存在于理论中）。AI的实现依赖于机器学习、深度学习、自然语言处理、计算机视觉和强化学习等技术，广泛应用于医疗、金融、交通等领域，正在深刻改变生活和工作方式。"
      ],
      "text/plain": [
       "<IPython.core.display.Markdown object>"
      ]
     },
     "execution_count": 14,
     "metadata": {},
     "output_type": "execute_result"
    }
   ],
   "source": [
    "from langchain.chains import SequentialChain\n",
    "\n",
    "# 创建提示词模板\n",
    "prompt1 = PromptTemplate(\n",
    "    input_variables=[\"input\"],\n",
    "    template=\"请回答以下问题：{input}\"\n",
    ")\n",
    "prompt2 = PromptTemplate(\n",
    "    input_variables=[\"output1\"],\n",
    "    template=\"请用简洁的语言总结以下内容：{output1}\"\n",
    ")\n",
    "\n",
    "# 创建多个链\n",
    "chain1 = LLMChain(llm=llm, prompt=prompt1, output_key=\"output1\")\n",
    "chain2 = LLMChain(llm=llm, prompt=prompt2, output_key=\"output2\")\n",
    "\n",
    "# 创建顺序链\n",
    "sequential_chain = SequentialChain(\n",
    "    chains=[chain1, chain2],\n",
    "    input_variables=[\"input\"],\n",
    "    output_variables=[\"output1\", \"output2\"]\n",
    ")\n",
    "\n",
    "# 运行顺序链\n",
    "response = sequential_chain({\"input\": \"什么是人工智能？\"})\n",
    "print(\"第一个链的输出：\")\n",
    "Markdown(response[\"output1\"])\n",
    "print(\"最终总结：\")\n",
    "Markdown(response[\"output2\"])"
   ]
  },
  {
   "cell_type": "markdown",
   "metadata": {},
   "source": [
    "## 2. 高级链"
   ]
  },
  {
   "cell_type": "markdown",
   "metadata": {},
   "source": [
    "### 2.1 AgentChain"
   ]
  },
  {
   "cell_type": "code",
   "execution_count": 10,
   "metadata": {},
   "outputs": [
    {
     "name": "stdout",
     "output_type": "stream",
     "text": [
      "\n",
      "\n",
      "\u001b[1m> Entering new AgentExecutor chain...\u001b[0m\n",
      "\u001b[32;1m\u001b[1;3m为了回答关于最新AI技术发展的问题，我需要搜索最新的AI技术动态和趋势。  \n",
      "Action: Search  \n",
      "Action Input: \"最新AI技术发展 2023\"  \n",
      "\u001b[0m搜索过程中发生错误: https://lite.duckduckgo.com/lite/ RuntimeError: error sending request for url (https://lite.duckduckgo.com/lite/): operation timed out\n",
      "\n",
      "Caused by:\n",
      "    operation timed out\n",
      "请尝试使用其他搜索工具或稍后再试\n"
     ]
    }
   ],
   "source": [
    "from langchain.agents import initialize_agent, Tool\n",
    "from langchain.tools import DuckDuckGoSearchRun\n",
    "from langchain_openai import ChatOpenAI\n",
    "\n",
    "# 大模型\n",
    "llm = ChatOpenAI(temperature=0.8, model='deepseek-chat')\n",
    "\n",
    "# 网络检索\n",
    "search = DuckDuckGoSearchRun()\n",
    "\n",
    "tools = [\n",
    "    Tool(\n",
    "        name=\"Search\",\n",
    "        func=search.run,\n",
    "        description=\"用于搜索网络信息\"\n",
    "    )\n",
    "]\n",
    "\n",
    "# 初始化代理\n",
    "agent = initialize_agent(\n",
    "    tools,\n",
    "    llm,\n",
    "    agent=\"zero-shot-react-description\", \n",
    "    verbose=True\n",
    ")\n",
    "\n",
    "# 运行代理\n",
    "try:\n",
    "    agent.run(\"最新的AI技术发展是什么？\")\n",
    "except Exception as e:\n",
    "    print(f\"搜索过程中发生错误: {e}\")\n",
    "    print(\"请尝试使用其他搜索工具或稍后再试\")"
   ]
  },
  {
   "cell_type": "markdown",
   "metadata": {},
   "source": [
    "### 2.2 MemoryChain "
   ]
  },
  {
   "cell_type": "code",
   "execution_count": 13,
   "metadata": {},
   "outputs": [],
   "source": [
    "from langchain_openai import ChatOpenAI\n",
    "from langchain.memory import ConversationBufferMemory\n",
    "from langchain.chains import LLMChain\n",
    "from langchain.prompts import PromptTemplate\n",
    "\n",
    "\n",
    "# 创建模型 - 使用DeepSeek的聊天模型\n",
    "llm = ChatOpenAI(model='deepseek-chat')\n",
    "\n",
    "# 提示词模板 - 定义输入变量和模板结构\n",
    "# 包含两个变量：chat_history(对话历史)和question(当前问题)\n",
    "prompt = PromptTemplate(\n",
    "    input_variables=[\"chat_history\", \"question\"],\n",
    "    template=\"\"\"基于以下对话历史和问题，请给出合适的回答：\n",
    "\n",
    "对话历史：\n",
    "{chat_history}\n",
    "\n",
    "当前问题：{question}\n",
    "\n",
    "回答：\"\"\"\n",
    ")\n",
    "\n",
    "# 创建记忆组件 - ConversationBufferMemory用于存储对话历史\n",
    "# memory_key指定在提示模板中使用的变量名\n",
    "# return_messages=True表示以消息对象形式返回历史，而不是纯文本\n",
    "memory = ConversationBufferMemory(\n",
    "    memory_key=\"chat_history\",\n",
    "    return_messages=True\n",
    ")\n",
    "\n",
    "# 创建带记忆的链 - 将LLM、提示模板和记忆组件组合成一个链\n",
    "# verbose=True启用详细输出，可以看到链的执行过程\n",
    "# 这个链能够记住之前的对话内容，实现连续对话的能力\n",
    "chain = LLMChain(\n",
    "    llm=llm,\n",
    "    prompt=prompt,\n",
    "    memory=memory,\n",
    "    verbose=True\n",
    ")"
   ]
  },
  {
   "cell_type": "code",
   "execution_count": 14,
   "metadata": {},
   "outputs": [
    {
     "name": "stdout",
     "output_type": "stream",
     "text": [
      "\n",
      "\n",
      "\u001b[1m> Entering new LLMChain chain...\u001b[0m\n",
      "Prompt after formatting:\n",
      "\u001b[32;1m\u001b[1;3m基于以下对话历史和问题，请给出合适的回答：\n",
      "\n",
      "对话历史：\n",
      "[]\n",
      "\n",
      "当前问题：你好，请介绍一下自己\n",
      "\n",
      "回答：\u001b[0m\n",
      "\n",
      "\u001b[1m> Finished chain.\u001b[0m\n",
      "第一次回答: 你好！我是DeepSeek Chat，一个由深度求索公司开发的智能AI助手。我可以帮助你解答各种问题，包括学习、工作、生活、科技、娱乐等多个领域。我具备强大的自然语言处理能力，能够理解并生成高质量的文本内容，还能处理上传的文档（如PDF、Word、Excel等）来提取和分析信息。  \n",
      "\n",
      "我的知识截至2024年7月，并且是**完全免费的**！无论是查找资料、写作辅助、代码编写，还是日常闲聊，我都乐意为你提供帮助。如果有任何问题，尽管问我吧！😊\n",
      "\n",
      "\n",
      "\n",
      "\u001b[1m> Entering new LLMChain chain...\u001b[0m\n",
      "Prompt after formatting:\n",
      "\u001b[32;1m\u001b[1;3m基于以下对话历史和问题，请给出合适的回答：\n",
      "\n",
      "对话历史：\n",
      "[HumanMessage(content='你好，请介绍一下自己', additional_kwargs={}, response_metadata={}), AIMessage(content='你好！我是DeepSeek Chat，一个由深度求索公司开发的智能AI助手。我可以帮助你解答各种问题，包括学习、工作、生活、科技、娱乐等多个领域。我具备强大的自然语言处理能力，能够理解并生成高质量的文本内容，还能处理上传的文档（如PDF、Word、Excel等）来提取和分析信息。  \\n\\n我的知识截至2024年7月，并且是**完全免费的**！无论是查找资料、写作辅助、代码编写，还是日常闲聊，我都乐意为你提供帮助。如果有任何问题，尽管问我吧！😊', additional_kwargs={}, response_metadata={})]\n",
      "\n",
      "当前问题：你刚才说了什么？\n",
      "\n",
      "回答：\u001b[0m\n",
      "\n",
      "\u001b[1m> Finished chain.\u001b[0m\n",
      "第二次回答: 我刚才的自我介绍是：  \n",
      "**\"你好！我是DeepSeek Chat，由深度求索公司开发的智能AI助手。我能解答学习、工作、生活等多领域问题，支持文档分析（PDF/Word等），知识截至2024年7月，且完全免费。需要任何帮助随时问我！😊\"**  \n",
      "\n",
      "需要更详细重复某个部分吗？\n",
      "\n",
      "\n",
      "\n",
      "\u001b[1m> Entering new LLMChain chain...\u001b[0m\n",
      "Prompt after formatting:\n",
      "\u001b[32;1m\u001b[1;3m基于以下对话历史和问题，请给出合适的回答：\n",
      "\n",
      "对话历史：\n",
      "[HumanMessage(content='你好，请介绍一下自己', additional_kwargs={}, response_metadata={}), AIMessage(content='你好！我是DeepSeek Chat，一个由深度求索公司开发的智能AI助手。我可以帮助你解答各种问题，包括学习、工作、生活、科技、娱乐等多个领域。我具备强大的自然语言处理能力，能够理解并生成高质量的文本内容，还能处理上传的文档（如PDF、Word、Excel等）来提取和分析信息。  \\n\\n我的知识截至2024年7月，并且是**完全免费的**！无论是查找资料、写作辅助、代码编写，还是日常闲聊，我都乐意为你提供帮助。如果有任何问题，尽管问我吧！😊', additional_kwargs={}, response_metadata={}), HumanMessage(content='你刚才说了什么？', additional_kwargs={}, response_metadata={}), AIMessage(content='我刚才的自我介绍是：  \\n**\"你好！我是DeepSeek Chat，由深度求索公司开发的智能AI助手。我能解答学习、工作、生活等多领域问题，支持文档分析（PDF/Word等），知识截至2024年7月，且完全免费。需要任何帮助随时问我！😊\"**  \\n\\n需要更详细重复某个部分吗？', additional_kwargs={}, response_metadata={})]\n",
      "\n",
      "当前问题：你能解释一下什么是人工智能吗？\n",
      "\n",
      "回答：\u001b[0m\n",
      "\n",
      "\u001b[1m> Finished chain.\u001b[0m\n",
      "第三次回答: 当然可以！**人工智能（Artificial Intelligence, AI）** 是计算机科学的一个分支，旨在开发能够模拟、延伸或扩展人类智能的技术。简单来说，它是让机器具备像人类一样的“思考”或“学习”能力，完成诸如推理、决策、识别、理解语言等任务。\n",
      "\n",
      "### 人工智能的核心特点：\n",
      "1. **学习能力**：通过数据训练改进性能（如机器学习、深度学习）。  \n",
      "2. **感知能力**：处理图像、语音、文本等输入（如人脸识别、语音助手）。  \n",
      "3. **推理与决策**：根据规则或数据做出判断（如自动驾驶、医疗诊断）。  \n",
      "\n",
      "### 常见应用场景：\n",
      "- **自然语言处理（NLP）**：如聊天机器人（像我！😊）、翻译工具。  \n",
      "- **计算机视觉**：如人脸识别、医学影像分析。  \n",
      "- **推荐系统**：如电商平台、视频网站的个性化推荐。  \n",
      "\n",
      "需要深入了解某个具体方向吗？可以随时告诉我！\n",
      "\n",
      "\n",
      "\n",
      "\u001b[1m> Entering new LLMChain chain...\u001b[0m\n",
      "Prompt after formatting:\n",
      "\u001b[32;1m\u001b[1;3m基于以下对话历史和问题，请给出合适的回答：\n",
      "\n",
      "对话历史：\n",
      "[HumanMessage(content='你好，请介绍一下自己', additional_kwargs={}, response_metadata={}), AIMessage(content='你好！我是DeepSeek Chat，一个由深度求索公司开发的智能AI助手。我可以帮助你解答各种问题，包括学习、工作、生活、科技、娱乐等多个领域。我具备强大的自然语言处理能力，能够理解并生成高质量的文本内容，还能处理上传的文档（如PDF、Word、Excel等）来提取和分析信息。  \\n\\n我的知识截至2024年7月，并且是**完全免费的**！无论是查找资料、写作辅助、代码编写，还是日常闲聊，我都乐意为你提供帮助。如果有任何问题，尽管问我吧！😊', additional_kwargs={}, response_metadata={}), HumanMessage(content='你刚才说了什么？', additional_kwargs={}, response_metadata={}), AIMessage(content='我刚才的自我介绍是：  \\n**\"你好！我是DeepSeek Chat，由深度求索公司开发的智能AI助手。我能解答学习、工作、生活等多领域问题，支持文档分析（PDF/Word等），知识截至2024年7月，且完全免费。需要任何帮助随时问我！😊\"**  \\n\\n需要更详细重复某个部分吗？', additional_kwargs={}, response_metadata={}), HumanMessage(content='你能解释一下什么是人工智能吗？', additional_kwargs={}, response_metadata={}), AIMessage(content='当然可以！**人工智能（Artificial Intelligence, AI）** 是计算机科学的一个分支，旨在开发能够模拟、延伸或扩展人类智能的技术。简单来说，它是让机器具备像人类一样的“思考”或“学习”能力，完成诸如推理、决策、识别、理解语言等任务。\\n\\n### 人工智能的核心特点：\\n1. **学习能力**：通过数据训练改进性能（如机器学习、深度学习）。  \\n2. **感知能力**：处理图像、语音、文本等输入（如人脸识别、语音助手）。  \\n3. **推理与决策**：根据规则或数据做出判断（如自动驾驶、医疗诊断）。  \\n\\n### 常见应用场景：\\n- **自然语言处理（NLP）**：如聊天机器人（像我！😊）、翻译工具。  \\n- **计算机视觉**：如人脸识别、医学影像分析。  \\n- **推荐系统**：如电商平台、视频网站的个性化推荐。  \\n\\n需要深入了解某个具体方向吗？可以随时告诉我！', additional_kwargs={}, response_metadata={})]\n",
      "\n",
      "当前问题：基于你刚才对人工智能的解释，它与机器学习有什么关系？\n",
      "\n",
      "回答：\u001b[0m\n",
      "\n",
      "\u001b[1m> Finished chain.\u001b[0m\n",
      "第四次回答: 基于之前的解释，**人工智能（AI）** 和 **机器学习（ML）** 是密切相关的概念，但存在层级关系：\n",
      "\n",
      "### 1. **包含关系**  \n",
      "- **人工智能** 是更广泛的领域，目标是让机器模拟人类智能。  \n",
      "- **机器学习** 是实现人工智能的**核心方法之一**（尤其是现代AI），通过让机器从数据中自动学习规律，而非显式编程。  \n",
      "\n",
      "### 2. **关键区别**  \n",
      "| **人工智能（AI）** | **机器学习（ML）** |  \n",
      "|-------------------|-------------------|  \n",
      "| 广义目标：智能行为 | 狭义手段：数据驱动学习 |  \n",
      "| 包含规则引擎、专家系统等其他方法 | 专注于算法优化和模型训练 |  \n",
      "\n",
      "### 3. **实际关联**  \n",
      "- **ML 支撑 AI**：例如，聊天机器人（AI）依赖自然语言处理模型（如Transformer），而这些模型通过机器学习（如深度学习）训练得到。  \n",
      "- **AI ≠ ML**：早期AI可能依赖硬编码规则，而现代AI多基于ML，但ML并非唯一路径。  \n",
      "\n",
      "简单来说：**机器学习是人工智能的“引擎”之一**，但人工智能的范畴更广。需要进一步区分或举例吗？ 😊\n",
      "\n"
     ]
    }
   ],
   "source": [
    "# 第一次对话\n",
    "response1 = chain.run(\"你好，请介绍一下自己\")\n",
    "print(f\"第一次回答: {response1}\\n\")\n",
    "\n",
    "# 第二次对话 - 测试记忆功能\n",
    "response2 = chain.run(\"你刚才说了什么？\")\n",
    "print(f\"第二次回答: {response2}\\n\")\n",
    "\n",
    "# 第三次对话 - 提出新问题\n",
    "response3 = chain.run(\"你能解释一下什么是人工智能吗？\")\n",
    "print(f\"第三次回答: {response3}\\n\")\n",
    "\n",
    "# 第四次对话 - 引用之前的内容\n",
    "response4 = chain.run(\"基于你刚才对人工智能的解释，它与机器学习有什么关系？\")\n",
    "print(f\"第四次回答: {response4}\\n\")"
   ]
  }
 ],
 "metadata": {
  "kernelspec": {
   "display_name": "ai",
   "language": "python",
   "name": "python3"
  },
  "language_info": {
   "codemirror_mode": {
    "name": "ipython",
    "version": 3
   },
   "file_extension": ".py",
   "mimetype": "text/x-python",
   "name": "python",
   "nbconvert_exporter": "python",
   "pygments_lexer": "ipython3",
   "version": "3.9.21"
  }
 },
 "nbformat": 4,
 "nbformat_minor": 2
}

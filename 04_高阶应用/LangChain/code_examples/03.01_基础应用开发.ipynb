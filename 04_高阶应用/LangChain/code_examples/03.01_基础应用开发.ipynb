{
 "cells": [
  {
   "cell_type": "markdown",
   "metadata": {},
   "source": [
    "# 基础应用开发"
   ]
  },
  {
   "cell_type": "code",
   "execution_count": 1,
   "metadata": {},
   "outputs": [
    {
     "name": "stdout",
     "output_type": "stream",
     "text": [
      "Python 3.9.21\n",
      "chromadb                                 0.6.3\n",
      "cryptography                             44.0.2\n",
      "duckduckgo_search                        7.5.3\n",
      "langchain                                0.3.21\n",
      "langchain-community                      0.3.20\n",
      "langchain-core                           0.3.47\n",
      "langchain-deepseek                       0.1.3\n",
      "langchain-openai                         0.3.9\n",
      "langchain-text-splitters                 0.3.7\n",
      "openai                                   1.68.2\n",
      "tiktoken                                 0.9.0\n"
     ]
    }
   ],
   "source": [
    "import os\n",
    "import warnings\n",
    "from IPython.display import Markdown\n",
    "from setenv import APIKeyManager\n",
    "\n",
    "# 忽略警告\n",
    "warnings.filterwarnings('ignore')\n",
    "# 设置API密钥\n",
    "key_manager = APIKeyManager().setup_api_key()\n",
    "\n",
    "# 查看Python版本\n",
    "!python -V\n",
    "# 查看安装的库\n",
    "!pip list | grep -E 'langchain|openai|llm|tiktoken|chromadb|cryptography|duck'"
   ]
  },
  {
   "cell_type": "markdown",
   "metadata": {},
   "source": [
    "## 1. 文本生成应用"
   ]
  },
  {
   "cell_type": "markdown",
   "metadata": {},
   "source": [
    "### 1.1 文章生成器"
   ]
  },
  {
   "cell_type": "code",
   "execution_count": 2,
   "metadata": {},
   "outputs": [],
   "source": [
    "from langchain_openai import ChatOpenAI\n",
    "from langchain.prompts import PromptTemplate\n",
    "from langchain.chains import LLMChain\n",
    "\n",
    "# 创建文章生成链\n",
    "article_prompt = PromptTemplate(\n",
    "    input_variables=[\"topic\", \"style\"],\n",
    "    template=\"\"\"\n",
    "    请以{style}的风格写一篇关于{topic}的文章。\n",
    "    要求：\n",
    "    1. 结构清晰\n",
    "    2. 内容充实\n",
    "    3. 语言流畅\n",
    "    \"\"\"\n",
    ")\n",
    "\n",
    "article_chain = LLMChain(\n",
    "    llm=ChatOpenAI(temperature=0.7, model='deepseek-chat'),\n",
    "    prompt=article_prompt\n",
    ")\n",
    "\n",
    "# 生成文章\n",
    "article = article_chain.run(\n",
    "    topic=\"人工智能发展\",\n",
    "    style=\"科技\"\n",
    ")"
   ]
  },
  {
   "cell_type": "code",
   "execution_count": 4,
   "metadata": {},
   "outputs": [
    {
     "data": {
      "text/markdown": [
       "**人工智能：从算法革命到文明重塑**  \n",
       "**——解码AI发展的技术脉络与未来图景**  \n",
       "\n",
       "---\n",
       "\n",
       "### **一、技术演进：三大浪潮重构AI范式**  \n",
       "1. **符号主义的奠基时代（1950s-1980s）**  \n",
       "   - 早期AI以逻辑推理为核心，如Newell与Simon的「通用问题求解器」尝试用规则模拟人类思维，但受限于算力与数据匮乏。  \n",
       "   - 专家系统在医疗诊断等领域初显价值，却因无法处理模糊性问题遭遇瓶颈。  \n",
       "\n",
       "2. **统计学习的爆发期（1990s-2010s）**  \n",
       "   - 机器学习取代硬编码规则，支持向量机（SVM）、随机森林等算法通过大数据训练实现模式识别。  \n",
       "   - 2012年AlexNet在ImageNet竞赛中夺冠，标志着深度学习依赖GPU算力与海量数据实现质的突破。  \n",
       "\n",
       "3. **多模态融合的智能生态（2020s-至今）**  \n",
       "   - Transformer架构催生GPT、DALL·E等跨模态模型，实现文本、图像、语音的联合理解与生成。  \n",
       "   - 具身智能（Embodied AI）推动机器人技术与环境交互能力升级，如波士顿动力Atlas的动态运动控制。  \n",
       "\n",
       "---\n",
       "\n",
       "### **二、核心驱动力：技术三角的协同进化**  \n",
       "1. **算力革命**  \n",
       "   - 从CPU到TPU/GPU集群，算力成本十年下降100倍（OpenAI数据），使千亿参数模型训练成为可能。  \n",
       "\n",
       "2. **数据爆炸**  \n",
       "   - 全球数据总量预计2025年达175ZB（IDC），合成数据技术进一步解决长尾场景需求。  \n",
       "\n",
       "3. **算法创新**  \n",
       "   - 注意力机制、扩散模型等突破推动AI从「感知」迈向「认知」，Meta的LLaMA-3已实现上下文窗口扩展至百万tokens。  \n",
       "\n",
       "---\n",
       "\n",
       "### **三、应用落地：垂直领域的渗透与颠覆**  \n",
       "| **领域**       | **典型应用**                  | **技术指标**                          |  \n",
       "|----------------|-----------------------------|-------------------------------------|  \n",
       "| **医疗**       | AI辅助新药研发               | AlphaFold2预测蛋白质结构精度达原子级      |  \n",
       "| **制造**       | 工业质检AI系统               | 缺陷识别准确率>99.5%（特斯拉生产数据）      |  \n",
       "| **金融**       | 高频交易算法                 | 毫秒级决策速度，年化收益提升20%-30%         |  \n",
       "| **教育**       | 个性化学习引擎               | 哈佛研究显示学生效率提升34%（2023）         |  \n",
       "\n",
       "---\n",
       "\n",
       "### **四、伦理与挑战：智能时代的双刃剑**  \n",
       "- **黑箱困境**：深度学习的不可解释性引发医疗、司法等关键领域信任危机。  \n",
       "- **数据偏见**：GPT-3被证明存在性别/种族倾向（斯坦福2022研究），需联邦学习等技术修正。  \n",
       "- **就业重构**：世界经济论坛预测2025年AI将替代8500万岗位，同时创造9700万新职位。  \n",
       "\n",
       "---\n",
       "\n",
       "### **五、未来展望：通用人工智能（AGI）的临界点**  \n",
       "- **技术路径**：混合架构（神经符号系统+强化学习）或突破逻辑与直觉的边界。  \n",
       "- **量子赋能**：谷歌「悬铃木」量子处理器已展示在优化问题上的指数级加速潜力。  \n",
       "- **人机协同**：脑机接口（Neuralink）与AI的直连可能重新定义智能进化轨迹。  \n",
       "\n",
       "---\n",
       "\n",
       "**结语**  \n",
       "人工智能的发展已从实验室走向文明演进的核心舞台。在算力、算法、数据的飞轮效应下，我们既需拥抱其带来的生产力跃迁，也必须建立全球治理框架以确保技术向善。当AI开始理解人类的情感与价值观时，这场科技革命终将超越工具属性，成为文明自我迭代的镜像与催化剂。"
      ],
      "text/plain": [
       "<IPython.core.display.Markdown object>"
      ]
     },
     "execution_count": 4,
     "metadata": {},
     "output_type": "execute_result"
    }
   ],
   "source": [
    "Markdown(article)"
   ]
  },
  {
   "cell_type": "markdown",
   "metadata": {},
   "source": [
    "### 1.2 代码生成器"
   ]
  },
  {
   "cell_type": "code",
   "execution_count": 6,
   "metadata": {},
   "outputs": [],
   "source": [
    "from langchain_openai import ChatOpenAI\n",
    "from langchain.prompts import PromptTemplate\n",
    "from langchain.chains import LLMChain\n",
    "\n",
    "# 创建代码生成链\n",
    "code_prompt = PromptTemplate(\n",
    "    input_variables=[\"language\", \"function\"],\n",
    "    template=\"\"\"\n",
    "    请使用{language}编写一个实现{function}的函数。\n",
    "    要求：\n",
    "    1. 代码规范\n",
    "    2. 注释完整\n",
    "    3. 异常处理\n",
    "    \"\"\"\n",
    ")\n",
    "\n",
    "code_chain = LLMChain(\n",
    "    llm=ChatOpenAI(temperature=0.3, model='deepseek-reasoner'),\n",
    "    prompt=code_prompt\n",
    ")\n",
    "\n",
    "# 生成代码\n",
    "code = code_chain.run(\n",
    "    language=\"Python\",\n",
    "    function=\"快速排序算法\"\n",
    ")"
   ]
  },
  {
   "cell_type": "code",
   "execution_count": 7,
   "metadata": {},
   "outputs": [
    {
     "data": {
      "text/markdown": [
       "```python\n",
       "def quick_sort(arr):\n",
       "    \"\"\"\n",
       "    使用快速排序算法对列表进行升序排序，返回新列表。\n",
       "\n",
       "    该函数通过递归地将列表划分为小于基准、等于基准和大于基准的三部分，\n",
       "    然后合并排序后的子列表来实现排序。包含输入类型验证和异常处理。\n",
       "\n",
       "    参数:\n",
       "        arr (list): 待排序的列表。\n",
       "\n",
       "    返回:\n",
       "        list: 排序后的新列表。\n",
       "\n",
       "    异常:\n",
       "        TypeError: 如果输入参数不是列表类型。\n",
       "        ValueError: 如果列表元素类型不一致无法比较。\n",
       "    \"\"\"\n",
       "    # 检查输入是否为列表类型\n",
       "    if not isinstance(arr, list):\n",
       "        raise TypeError(\"输入参数必须是一个列表。\")\n",
       "\n",
       "    # 递归终止条件：空列表或单元素列表直接返回副本\n",
       "    if len(arr) <= 1:\n",
       "        return arr.copy()\n",
       "\n",
       "    try:\n",
       "        # 选择中间元素作为基准值\n",
       "        mid_index = len(arr) // 2\n",
       "        pivot = arr[mid_index]\n",
       "\n",
       "        # 划分三个子列表\n",
       "        less = [x for x in arr if x < pivot]\n",
       "        equal = [x for x in arr if x == pivot]\n",
       "        greater = [x for x in arr if x > pivot]\n",
       "\n",
       "        # 递归排序并合并结果\n",
       "        return quick_sort(less) + equal + quick_sort(greater)\n",
       "    except TypeError as e:\n",
       "        # 捕获类型错误并转换异常类型\n",
       "        raise ValueError(\"列表中存在无法比较的元素类型。\") from e\n",
       "\n",
       "\n",
       "if __name__ == \"__main__\":\n",
       "    # 测试正常情况\n",
       "    test_list = [3, 1, 4, 1, 5, 9, 2, 6, 5]\n",
       "    print(\"原始列表:\", test_list)\n",
       "    sorted_list = quick_sort(test_list)\n",
       "    print(\"排序结果:\", sorted_list)\n",
       "\n",
       "    # 测试类型错误（取消注释以下代码进行测试）\n",
       "    # quick_sort(\"invalid input\")  # 触发TypeError\n",
       "\n",
       "    # 测试元素类型不一致（取消注释以下代码进行测试）\n",
       "    # mixed_types = [3, \"apple\", 2.5]\n",
       "    # quick_sort(mixed_types)  # 触发ValueError\n",
       "```\n",
       "\n",
       "### 代码说明：\n",
       "1. **输入验证**：使用`isinstance()`检查输入是否为列表类型，不符合时抛出`TypeError`。\n",
       "2. **基准选择**：采用中间元素作为基准值，平衡极端情况下的性能表现。\n",
       "3. **列表划分**：通过列表推导式将元素划分为小于、等于和大于基准的三部分。\n",
       "4. **递归排序**：对划分后的子列表递归调用快速排序，最后合并结果。\n",
       "5. **异常处理**：\n",
       "   - 捕获元素比较时的`TypeError`，转换为更明确的`ValueError`。\n",
       "   - 在文档字符串中明确标注可能抛出的异常类型及触发条件。\n",
       "6. **代码规范**：\n",
       "   - 符合PEP8规范，使用清晰的变量命名\n",
       "   - 函数和异常说明采用标准docstring格式\n",
       "   - 包含完整的类型提示和返回说明\n",
       "\n",
       "该实现保持了算法O(n log n)的平均时间复杂度，同时通过返回新列表避免修改原始数据。测试案例包含正常排序、类型校验和异常处理验证。"
      ],
      "text/plain": [
       "<IPython.core.display.Markdown object>"
      ]
     },
     "execution_count": 7,
     "metadata": {},
     "output_type": "execute_result"
    }
   ],
   "source": [
    "Markdown(code)"
   ]
  },
  {
   "cell_type": "markdown",
   "metadata": {},
   "source": [
    "## 2. 对话系统开发\n",
    "### 2.1 聊天机器人"
   ]
  },
  {
   "cell_type": "code",
   "execution_count": 8,
   "metadata": {},
   "outputs": [
    {
     "name": "stdout",
     "output_type": "stream",
     "text": [
      "\n",
      "\n",
      "\u001b[1m> Entering new ConversationChain chain...\u001b[0m\n",
      "Prompt after formatting:\n",
      "\u001b[32;1m\u001b[1;3mThe following is a friendly conversation between a human and an AI. The AI is talkative and provides lots of specific details from its context. If the AI does not know the answer to a question, it truthfully says it does not know.\n",
      "\n",
      "Current conversation:\n",
      "\n",
      "Human: 你好！\n",
      "AI:\u001b[0m\n",
      "\n",
      "\u001b[1m> Finished chain.\u001b[0m\n",
      "\n",
      "\n",
      "\u001b[1m> Entering new ConversationChain chain...\u001b[0m\n",
      "Prompt after formatting:\n",
      "\u001b[32;1m\u001b[1;3mThe following is a friendly conversation between a human and an AI. The AI is talkative and provides lots of specific details from its context. If the AI does not know the answer to a question, it truthfully says it does not know.\n",
      "\n",
      "Current conversation:\n",
      "Human: 你好！\n",
      "AI: 你好！很高兴见到你！😊 今天有什么我可以帮你的吗？无论是问题、闲聊，还是需要建议，我都在这儿呢～\n",
      "Human: 请介绍一下你自己\n",
      "AI:\u001b[0m\n",
      "\n",
      "\u001b[1m> Finished chain.\u001b[0m\n"
     ]
    }
   ],
   "source": [
    "from langchain.chat_models import ChatOpenAI\n",
    "from langchain.memory import ConversationBufferMemory\n",
    "from langchain.chains import ConversationChain\n",
    "\n",
    "# 创建聊天模型\n",
    "chat = ChatOpenAI(temperature=0.7, model='deepseek-chat')\n",
    "\n",
    "# 创建记忆\n",
    "memory = ConversationBufferMemory()\n",
    "\n",
    "# 创建对话链\n",
    "conversation = ConversationChain(\n",
    "    llm=chat,\n",
    "    memory=memory,\n",
    "    verbose=True\n",
    ")\n",
    "\n",
    "# 进行对话\n",
    "response1 = conversation.predict(input=\"你好！\")\n",
    "response2 = conversation.predict(input=\"请介绍一下你自己\")"
   ]
  },
  {
   "cell_type": "markdown",
   "metadata": {},
   "source": [
    "### 2.2 客服系统"
   ]
  },
  {
   "cell_type": "code",
   "execution_count": 14,
   "metadata": {},
   "outputs": [
    {
     "name": "stdout",
     "output_type": "stream",
     "text": [
      "\n",
      "\n",
      "\u001b[1m> Entering new AgentExecutor chain...\u001b[0m\n",
      "\u001b[32;1m\u001b[1;3mThought: 用户询问产品价格，我需要查询FAQ获取相关信息。\n",
      "Action: FAQ\n",
      "Action Input: 产品价格是多少？\u001b[0m\n",
      "Observation: \u001b[36;1m\u001b[1;3m我们的基础产品价格为99元，高级版本为299元。\u001b[0m\n",
      "Thought:\u001b[32;1m\u001b[1;3mI now know the final answer\n",
      "Final Answer: 我们的基础产品价格为99元，高级版本为299元。\u001b[0m\n",
      "\n",
      "\u001b[1m> Finished chain.\u001b[0m\n"
     ]
    }
   ],
   "source": [
    "from langchain.agents import initialize_agent, Tool\n",
    "from langchain.tools import DuckDuckGoSearchRun\n",
    "\n",
    "# 创建FAQ查询函数\n",
    "def faq_lookup(query):\n",
    "    faq_database = {\n",
    "        \"价格\": \"我们的基础产品价格为99元，高级版本为299元。\",\n",
    "        \"配送\": \"我们提供全国范围内的免费配送，一般3-5个工作日送达。\",\n",
    "        \"退款\": \"购买后30天内，如有质量问题可申请全额退款。\",\n",
    "        \"保修\": \"所有产品均提供一年免费保修服务。\"\n",
    "    }\n",
    "    \n",
    "    for key, value in faq_database.items():\n",
    "        if key in query:\n",
    "            return value\n",
    "    return \"抱歉，没有找到相关问题的答案，请联系客服人员获取更多帮助。\"\n",
    "\n",
    "# 创建工具\n",
    "search = DuckDuckGoSearchRun()\n",
    "tools = [\n",
    "    # Tool(\n",
    "    #     name=\"Search\",\n",
    "    #     func=search.run,\n",
    "    #     description=\"搜索产品信息\"\n",
    "    # ),\n",
    "    Tool(\n",
    "        name=\"FAQ\",\n",
    "        func=faq_lookup,\n",
    "        description=\"查询常见问题\"\n",
    "    )\n",
    "]\n",
    "\n",
    "# 初始化客服代理\n",
    "agent = initialize_agent(\n",
    "    tools,\n",
    "    chat,\n",
    "    agent=\"zero-shot-react-description\",\n",
    "    verbose=True\n",
    ")\n",
    "\n",
    "# 处理用户问题\n",
    "try:\n",
    "    agent.run(\"产品价格是多少？\")\n",
    "except Exception as e:\n",
    "    print(f\"搜索过程中发生错误: {e}\")\n",
    "    print(\"请尝试使用其他搜索工具或稍后再试\")"
   ]
  }
 ],
 "metadata": {
  "kernelspec": {
   "display_name": "ai",
   "language": "python",
   "name": "python3"
  },
  "language_info": {
   "codemirror_mode": {
    "name": "ipython",
    "version": 3
   },
   "file_extension": ".py",
   "mimetype": "text/x-python",
   "name": "python",
   "nbconvert_exporter": "python",
   "pygments_lexer": "ipython3",
   "version": "3.9.21"
  }
 },
 "nbformat": 4,
 "nbformat_minor": 2
}
